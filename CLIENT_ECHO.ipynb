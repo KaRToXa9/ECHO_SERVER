{
 "cells": [
  {
   "cell_type": "code",
   "execution_count": 10,
   "id": "c855920c",
   "metadata": {},
   "outputs": [
    {
     "name": "stdout",
     "output_type": "stream",
     "text": [
      "Поивет\n",
      "Received b'\\xd0\\x9f\\xd0\\xbe\\xd0\\xb8\\xd0\\xb2\\xd0\\xb5\\xd1\\x82'\n"
     ]
    }
   ],
   "source": [
    "import socket\n",
    "sock = socket.socket(socket.AF_INET, socket.SOCK_STREAM)\n",
    "sock.connect(('localhost', 8080))\n",
    "sock.sendall(bytes(input(),'UTF-8'))\n",
    "data = sock.recv(1024)\n",
    "sock.close()\n",
    "print ('Received', repr(data))"
   ]
  },
  {
   "cell_type": "code",
   "execution_count": null,
   "id": "e67aa112",
   "metadata": {},
   "outputs": [],
   "source": []
  }
 ],
 "metadata": {
  "kernelspec": {
   "display_name": "Python 3",
   "language": "python",
   "name": "python3"
  },
  "language_info": {
   "codemirror_mode": {
    "name": "ipython",
    "version": 3
   },
   "file_extension": ".py",
   "mimetype": "text/x-python",
   "name": "python",
   "nbconvert_exporter": "python",
   "pygments_lexer": "ipython3",
   "version": "3.8.8"
  }
 },
 "nbformat": 4,
 "nbformat_minor": 5
}
